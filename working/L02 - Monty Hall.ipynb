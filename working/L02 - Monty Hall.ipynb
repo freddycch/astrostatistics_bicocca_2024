{
 "cells": [
  {
   "cell_type": "code",
   "execution_count": 2,
   "id": "e5515878-2791-4f30-b2ed-5c810726a921",
   "metadata": {},
   "outputs": [
    {
     "name": "stderr",
     "output_type": "stream",
     "text": [
      "100%|██████████████████████████████████████████████████████████████████████████████████| 17/17 [00:22<00:00,  1.30s/it]\n"
     ]
    },
    {
     "data": {
      "text/plain": [
       "[<matplotlib.lines.Line2D at 0x23445cebd90>]"
      ]
     },
     "execution_count": 2,
     "metadata": {},
     "output_type": "execute_result"
    },
    {
     "data": {
      "image/png": "[encoded data removed]",
      "text/plain": [
       "<Figure size 432x288 with 1 Axes>"
      ]
     },
     "metadata": {
      "needs_background": "light"
     },
     "output_type": "display_data"
    }
   ],
   "source": [
    "import numpy as np\n",
    "import matplotlib.pyplot as plt\n",
    "%matplotlib inline\n",
    "from tqdm import tqdm\n",
    "    \n",
    "nLoop = 20000\n",
    "for nDoors in tqdm( np.arange(3, 20) ):\n",
    "    score_keeper = 0\n",
    "    score_switch = 0\n",
    "    score_newbie = 0\n",
    "    # M = \"OPEN ALL DOORS: LEAVE ONLY THREE, ONE OPEN W/ GOAT\"\n",
    "    M = nDoors - 2\n",
    "    for _ in range(nLoop):\n",
    "        iCar    = np.random.randint(0, nDoors)\n",
    "        iGoats  = np.delete( np.arange(0, nDoors, 1), iCar )\n",
    "        iKeeper = np.random.randint(0, nDoors)    \n",
    "        # Open M doors, leave >= 2\n",
    "        iOpened = np.random.choice( iGoats[iGoats != iKeeper], size=M, replace=False )\n",
    "        iClosed = np.delete( np.arange(0, nDoors, 1), iOpened )\n",
    "        if len(iClosed) + len(iOpened) != nDoors: print('NOPE'); break\n",
    "        #print('1:', iKeep, iCar, iOpened)\n",
    "        #print('2:', nDoors, len(iOpened))\n",
    "        #print('3:', iKeep, np.sort(iOpened), np.sort(iClosed))\n",
    "        \n",
    "        iSwitch = np.random.choice( iClosed[iClosed != iKeeper] )\n",
    "        iNewbie = np.random.choice( iClosed )\n",
    "        \n",
    "        if iKeeper == iCar: score_keeper += 1\n",
    "        if iSwitch == iCar: score_switch += 1\n",
    "        if iNewbie == iCar: score_newbie += 1\n",
    "        #break         \n",
    "    plt.scatter(nDoors, score_keeper/nLoop, c='red',   marker='v')\n",
    "    plt.scatter(nDoors, score_switch/nLoop, c='blue',  marker='^')\n",
    "    plt.scatter(nDoors, score_newbie/nLoop, c='black', marker='>')\n",
    "\n",
    "n = np.arange(3, 20, 1)\n",
    "plt.plot(n, 1/n, c='red', ls='--')\n",
    "plt.axhline(0.5, c='gray', ls='--')\n",
    "plt.plot(n, 1-1/n, c='blue', ls='--')"
   ]
  },
  {
   "cell_type": "code",
   "execution_count": 7,
   "id": "195d6e82-a697-4eb3-ab2b-8d8fe25bed13",
   "metadata": {},
   "outputs": [
    {
     "name": "stderr",
     "output_type": "stream",
     "text": [
      "100%|████████████████████████████████████████████████████████████████████████████████████| 6/6 [00:01<00:00,  3.08it/s]\n",
      "<ipython-input-7-4863bf07d9f2>:32: RuntimeWarning: divide by zero encountered in divide\n",
      "  plt.plot(n, 1-(n-1)/n/(n-1-m), c='blue', ls='--')\n"
     ]
    },
    {
     "data": {
      "text/plain": [
       "[<matplotlib.lines.Line2D at 0x23448153700>]"
      ]
     },
     "execution_count": 7,
     "metadata": {},
     "output_type": "execute_result"
    },
    {
     "data": {
      "image/png": "[encoded data removed]",
      "text/plain": [
       "<Figure size 432x288 with 1 Axes>"
      ]
     },
     "metadata": {
      "needs_background": "light"
     },
     "output_type": "display_data"
    }
   ],
   "source": [
    "nLoop = 5000\n",
    "for nDoors in tqdm( np.arange(4, 10, 1) ):\n",
    "    score_keeper = 0\n",
    "    score_switch = 0\n",
    "    score_newbie = 0\n",
    "    # \"OPEN DOORS: LEAVE ONLY nDoors - M CLOSED\n",
    "    M = nDoors - 2 - 1\n",
    "    # print('N', nDoors); print('Opened', M); print('Closed', nDoors - M)\n",
    "    for _ in range(nLoop):\n",
    "        iCar    = np.random.randint(0, nDoors)\n",
    "        iGoats  = np.delete( np.arange(0, nDoors, 1), iCar )\n",
    "        iKeeper = np.random.randint(0, nDoors)    \n",
    "        iOpened = np.random.choice( iGoats[iGoats != iKeeper], size=M, replace=False )\n",
    "        iClosed = np.delete( np.arange(0, nDoors, 1), iOpened )\n",
    "        if len(iClosed) + len(iOpened) != nDoors: print('NOPE'); break\n",
    "        \n",
    "        iSwitch = np.random.choice( iClosed[iClosed != iKeeper] )\n",
    "        iNewbie = np.random.choice( iClosed )\n",
    "        \n",
    "        if iKeeper == iCar: score_keeper += 1\n",
    "        if iSwitch == iCar: score_switch += 1\n",
    "        if iNewbie == iCar: score_newbie += 1\n",
    "        #break         \n",
    "    plt.scatter(nDoors, score_keeper/nLoop, c='red',   marker='v')\n",
    "    plt.scatter(nDoors, score_switch/nLoop, c='blue',  marker='^')\n",
    "    plt.scatter(nDoors, score_newbie/nLoop, c='black', marker='>')\n",
    "\n",
    "n = np.arange(4, 20, 1)\n",
    "m = 3\n",
    "plt.plot(n, 1/n, c='red', ls='--')\n",
    "plt.axhline(1/len(iClosed), c='gray', ls='--')\n",
    "plt.plot(n, 1-(n-1)/n/(n-1-m), c='blue', ls='--')"
   ]
  },
  {
   "cell_type": "code",
   "execution_count": null,
   "id": "3c7e7e07-2c36-4eab-b406-3e6eac739ebd",
   "metadata": {},
   "outputs": [],
   "source": []
  }
 ],
 "metadata": {
  "kernelspec": {
   "display_name": "Python 3",
   "language": "python",
   "name": "python3"
  },
  "language_info": {
   "codemirror_mode": {
    "name": "ipython",
    "version": 3
   },
   "file_extension": ".py",
   "mimetype": "text/x-python",
   "name": "python",
   "nbconvert_exporter": "python",
   "pygments_lexer": "ipython3",
   "version": "3.8.1"
  }
 },
 "nbformat": 4,
 "nbformat_minor": 5
}
