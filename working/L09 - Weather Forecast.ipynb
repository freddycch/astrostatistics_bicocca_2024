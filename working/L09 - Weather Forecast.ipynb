{
 "cells": [
  {
   "cell_type": "code",
   "execution_count": 2,
   "id": "93347e4d-1043-437b-af06-265b71dd753e",
   "metadata": {},
   "outputs": [
    {
     "name": "stderr",
     "output_type": "stream",
     "text": [
      "100%|██████████████████████████████████████████████████████████████████████████| 10000/10000 [00:03<00:00, 2570.21it/s]\n",
      "100%|██████████████████████████████████████████████████████████████████████████| 10000/10000 [00:01<00:00, 7482.95it/s]\n",
      "100%|██████████████████████████████████████████████████████████████████████████| 10000/10000 [00:02<00:00, 4333.09it/s]\n"
     ]
    },
    {
     "data": {
      "text/plain": [
       "<matplotlib.lines.Line2D at 0x1eb69f67c10>"
      ]
     },
     "execution_count": 2,
     "metadata": {},
     "output_type": "execute_result"
    },
    {
     "data": {
      "image/png": "[encoded data removed]",
      "text/plain": [
       "<Figure size 432x288 with 1 Axes>"
      ]
     },
     "metadata": {
      "needs_background": "light"
     },
     "output_type": "display_data"
    }
   ],
   "source": [
    "import numpy as np\n",
    "from numba import jit, njit\n",
    "from tqdm import tqdm\n",
    "\n",
    "pSun = lambda W: 0.5 if W==0 else 0.9\n",
    "pBad = lambda W: 0.5 if W==0 else 0.1\n",
    "\n",
    "nDays = 10000\n",
    "\n",
    "Sun = np.zeros(nDays)\n",
    "Bad = np.ones(nDays)\n",
    "Days = np.zeros(nDays)\n",
    "W = 1 # 1 == Sun, -1 == Bad\n",
    "for i in tqdm(range(nDays)):\n",
    "    W = np.random.choice([1, 0], p=[pSun(W), pBad(W)])\n",
    "    Days[i] = W\n",
    "    #if W == +1: \n",
    "    #    Sun[i] += 1\n",
    "    #    Bad[i] += -1\n",
    "\n",
    "import matplotlib.pyplot as plt\n",
    "%matplotlib inline\n",
    "from tqdm import tqdm\n",
    "#plt.plot(np.arange(nDays), [np.sum(Sun[:n])/(n+1) for n in tqdm(range(nDays))], c='royalblue')\n",
    "plt.plot(np.arange(nDays), [np.sum(Days[:n])/(n+1) for n in tqdm(range(nDays))], c='royalblue')\n",
    "plt.xscale('log')\n",
    "plt.plot(np.arange(nDays), [-np.sum(Days[:n]-1)/(n+1) for n in tqdm(range(nDays))], c='red')\n",
    "\n",
    "plt.axhline(0.83, lw=2, c='navy')\n",
    "plt.axhline(0.17, lw=2, c='firebrick')"
   ]
  },
  {
   "cell_type": "code",
   "execution_count": 1,
   "id": "adcc068c-e3ec-4899-ab0d-b9925a67c236",
   "metadata": {},
   "outputs": [],
   "source": [
    "### Add plt.hist of the distributions!\n",
    "\n",
    "### Add statistics of the distribution: mean, rms, etc."
   ]
  },
  {
   "cell_type": "code",
   "execution_count": null,
   "id": "bedd6787-6ac4-42c2-9642-4ccda811192e",
   "metadata": {},
   "outputs": [],
   "source": []
  }
 ],
 "metadata": {
  "kernelspec": {
   "display_name": "Python 3",
   "language": "python",
   "name": "python3"
  },
  "language_info": {
   "codemirror_mode": {
    "name": "ipython",
    "version": 3
   },
   "file_extension": ".py",
   "mimetype": "text/x-python",
   "name": "python",
   "nbconvert_exporter": "python",
   "pygments_lexer": "ipython3",
   "version": "3.8.1"
  }
 },
 "nbformat": 4,
 "nbformat_minor": 5
}
