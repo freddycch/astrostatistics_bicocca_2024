{
 "cells": [
  {
   "cell_type": "markdown",
   "id": "554ccd08-9bbc-4015-acfc-09558692913d",
   "metadata": {},
   "source": [
    "PDF OF THE LOG\n",
    "\n",
    "1. Use numpy to draw N (where N is large...) random samples from a uniform distribution between 0.1 and 1000, and store these samples as x.\n",
    "2. Use matplotlib to make a histogram of these samples.\n",
    "3. Compute the base-10 log of your array x, and store this as y.\n",
    "4. Make another histogram for y. Using the equation to transform probability distributions, write what the theoretical pdf of y is, and overplot it onto your histogram.\n",
    "5. Compute the log of the mean of x and the mean of y. Now compute the log of the median of x and the median of y.\n",
    "\n",
    "You should note that the means are different, but the medians (as it is a cumulative statistic) are the same. The mean is affected by the scale of the sample values, but the median only depends on the ordering of the samples. Monotonic transformations (like taking the log) do not change the ordering of samples.rdering of samples."
   ]
  },
  {
   "cell_type": "code",
   "execution_count": null,
   "id": "b98244df-a13b-470a-b6f8-be75f409a2f8",
   "metadata": {},
   "outputs": [],
   "source": [
    "import numpy as np\n",
    "N = int(1e6)\n",
    "x = np.random.uniform(0.1, 1000, size=N)\n",
    "import matplotlib.pyplot as plt\n",
    "fig, axs = plt.subplots(1, 2, tight_layout=True)\n",
    "axs[0].hist(x, bins=np.linspace(min(x), max(x), 40), density=True)\n",
    "axs[0].axhline(1/(max(x)-min(x)), c='k', ls='--')\n",
    "#axs[0].set_xscale('log')#; plt.show()\n",
    "y = np.log10(x)\n",
    "axs[1].hist(y, bins=np.linspace(-1, 3, 40), density=True)\n",
    "axs[1].plot(y, y/(1000-0.1)*np.log(10) )"
   ]
  },
  {
   "cell_type": "code",
   "execution_count": null,
   "id": "b9ba0a51-fd84-48e6-bf0b-3d8edb7af4cf",
   "metadata": {},
   "outputs": [],
   "source": []
  },
  {
   "cell_type": "code",
   "execution_count": null,
   "id": "5e726951-301b-44f3-958c-c73c7603ba73",
   "metadata": {},
   "outputs": [],
   "source": []
  }
 ],
 "metadata": {
  "kernelspec": {
   "display_name": "Python 3",
   "language": "python",
   "name": "python3"
  },
  "language_info": {
   "codemirror_mode": {
    "name": "ipython",
    "version": 3
   },
   "file_extension": ".py",
   "mimetype": "text/x-python",
   "name": "python",
   "nbconvert_exporter": "python",
   "pygments_lexer": "ipython3",
   "version": "3.8.1"
  }
 },
 "nbformat": 4,
 "nbformat_minor": 5
}
